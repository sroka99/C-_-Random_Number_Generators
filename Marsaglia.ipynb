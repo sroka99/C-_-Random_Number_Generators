{
 "cells": [
  {
   "cell_type": "code",
   "execution_count": 13,
   "metadata": {},
   "outputs": [],
   "source": [
    "def fun_1(x1,x2,x3,m = 2**32 -5):\n",
    "    return (1176*x3 +1476*x2+1776*x1)%m\n"
   ]
  },
  {
   "cell_type": "code",
   "execution_count": 38,
   "metadata": {},
   "outputs": [],
   "source": [
    "def fun_1_step(step,x1,x2,x3,m = 2**35 -1629):\n",
    "    i=1\n",
    "    while i < step:\n",
    "        x3,x2,x1 = fun_1(x1,x2,x3,m),x3,x2\n",
    "        i=i+1\n",
    "    print(x3,x2,x1)\n",
    "    return fun_1(x1,x2,x3,m)/m\n"
   ]
  },
  {
   "cell_type": "code",
   "execution_count": 48,
   "metadata": {},
   "outputs": [],
   "source": [
    "def fun_2(x1,x2,x3,m = 2**32 -5):\n",
    "    return ((2**13)*(x1+x2+x3))%m"
   ]
  },
  {
   "cell_type": "code",
   "execution_count": 80,
   "metadata": {},
   "outputs": [],
   "source": [
    "def fun_2(x1,x2,x3,m = 2**32 -5):\n",
    "    return ((2**13)*(x1+x2+x3))%m\n",
    "def fun_2_step(step,x1,x2,x3,m = 2**32 -5):\n",
    "    i=1\n",
    "    while i < step:\n",
    "        x3,x2,x1 = fun_2(x1,x2,x3,m),x3,x2\n",
    "        i=i+1\n",
    "    # print(x3,x2,x1)\n",
    "    return fun_2(x1,x2,x3,m)/m"
   ]
  },
  {
   "cell_type": "code",
   "execution_count": 79,
   "metadata": {},
   "outputs": [
    {
     "name": "stdout",
     "output_type": "stream",
     "text": [
      "2013429760 245760 10\n"
     ]
    },
    {
     "data": {
      "text/plain": [
       "0.7812735447442084"
      ]
     },
     "execution_count": 79,
     "metadata": {},
     "output_type": "execute_result"
    }
   ],
   "source": [
    "fun_2_step(3,10,10,10)"
   ]
  },
  {
   "cell_type": "code",
   "execution_count": 62,
   "metadata": {},
   "outputs": [],
   "source": [
    "def fun_3(x1,x2,x3,m = 2**35 -849):\n",
    "    return ((2**13)*(x1+x2+x3))%m\n",
    " \n",
    "def fun_3_step(step,x1,x2,x3,m = 2**35 -849):\n",
    "    i=1\n",
    "    while i < step:\n",
    "        x3,x2,x1 = fun_3(x1,x2,x3,m),x3,x2\n",
    "        i=i+1\n",
    "    # print(x3,x2,x1)\n",
    "    return fun_3(x1,x2,x3,m)/m"
   ]
  },
  {
   "cell_type": "code",
   "execution_count": null,
   "metadata": {},
   "outputs": [],
   "source": []
  },
  {
   "cell_type": "code",
   "execution_count": 74,
   "metadata": {},
   "outputs": [],
   "source": [
    "def fun_4(x1,x2,x3,m = 2**35 -1629):\n",
    "    return ((2**19)*(x1+x2+x3))%m\n",
    " \n",
    "def fun_4_step(step,x1,x2,x3,m = 2**35 -1629):\n",
    "    i=1\n",
    "    while i < step:\n",
    "        x3,x2,x1 = fun_4(x1,x2,x3,m),x3,x2\n",
    "        i=i+1\n",
    "    # print(x3,x2,x1)\n",
    "    return fun_4(x1,x2,x3,m)/m"
   ]
  },
  {
   "cell_type": "code",
   "execution_count": null,
   "metadata": {},
   "outputs": [],
   "source": []
  },
  {
   "cell_type": "markdown",
   "metadata": {},
   "source": [
    "### S"
   ]
  },
  {
   "cell_type": "code",
   "execution_count": null,
   "metadata": {},
   "outputs": [],
   "source": []
  },
  {
   "cell_type": "code",
   "execution_count": null,
   "metadata": {},
   "outputs": [],
   "source": []
  }
 ],
 "metadata": {
  "kernelspec": {
   "display_name": "Python 3",
   "language": "python",
   "name": "python3"
  },
  "language_info": {
   "codemirror_mode": {
    "name": "ipython",
    "version": 3
   },
   "file_extension": ".py",
   "mimetype": "text/x-python",
   "name": "python",
   "nbconvert_exporter": "python",
   "pygments_lexer": "ipython3",
   "version": "3.11.6"
  }
 },
 "nbformat": 4,
 "nbformat_minor": 2
}
